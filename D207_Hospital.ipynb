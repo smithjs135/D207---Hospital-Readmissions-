{
 "cells": [
  {
   "cell_type": "markdown",
   "metadata": {},
   "source": [
    "Jason Smith   \n",
    "Student ID: 293963   \n",
    "jsmi268@wgu.edu   \n",
    "WGU - MSDA  \n",
    "D207- Data Exploration of Hospital Data  \n",
    "Program Mentor: Christiana Okhipo  "
   ]
  },
  {
   "cell_type": "markdown",
   "metadata": {},
   "source": [
    "# Import libraries, set display parameters, import data set"
   ]
  },
  {
   "cell_type": "code",
   "execution_count": 1,
   "metadata": {},
   "outputs": [
    {
     "name": "stderr",
     "output_type": "stream",
     "text": [
      "C:\\Users\\smith\\Anaconda3\\lib\\site-packages\\scipy\\__init__.py:146: UserWarning: A NumPy version >=1.16.5 and <1.23.0 is required for this version of SciPy (detected version 1.23.1\n",
      "  warnings.warn(f\"A NumPy version >={np_minversion} and <{np_maxversion}\"\n"
     ]
    }
   ],
   "source": [
    "# Import libraries\n",
    "import pandas as pd\n",
    "import numpy as np\n",
    "from scipy import stats\n",
    "import seaborn as sns\n",
    "import matplotlib.pyplot as plt\n",
    "#import plotnine as p9\n",
    "\n",
    "# Change display max rows and columns\n",
    "pd.set_option('display.max_rows', 100)\n",
    "pd.set_option(\"display.max_columns\", 100)\n",
    "\n",
    "# Import Clean Data Set \n",
    "meddf = pd.read_csv('med_data_clean.csv', index_col=1)\n"
   ]
  },
  {
   "cell_type": "markdown",
   "metadata": {},
   "source": [
    "# A3: Data Identification"
   ]
  },
  {
   "cell_type": "code",
   "execution_count": 2,
   "metadata": {},
   "outputs": [
    {
     "data": {
      "text/html": [
       "<div>\n",
       "<style scoped>\n",
       "    .dataframe tbody tr th:only-of-type {\n",
       "        vertical-align: middle;\n",
       "    }\n",
       "\n",
       "    .dataframe tbody tr th {\n",
       "        vertical-align: top;\n",
       "    }\n",
       "\n",
       "    .dataframe thead th {\n",
       "        text-align: right;\n",
       "    }\n",
       "</style>\n",
       "<table border=\"1\" class=\"dataframe\">\n",
       "  <thead>\n",
       "    <tr style=\"text-align: right;\">\n",
       "      <th></th>\n",
       "      <th>Unnamed: 0</th>\n",
       "      <th>Interaction</th>\n",
       "      <th>UID</th>\n",
       "      <th>City</th>\n",
       "      <th>State</th>\n",
       "      <th>County</th>\n",
       "      <th>Zip</th>\n",
       "      <th>Latitude</th>\n",
       "      <th>Longitude</th>\n",
       "      <th>Population</th>\n",
       "      <th>Area</th>\n",
       "      <th>Timezone</th>\n",
       "      <th>Job</th>\n",
       "      <th>Education</th>\n",
       "      <th>Employment</th>\n",
       "      <th>Marital</th>\n",
       "      <th>Gender</th>\n",
       "      <th>ReAdmis</th>\n",
       "      <th>VitD_levels</th>\n",
       "      <th>Doc_visits</th>\n",
       "      <th>Full_meals_eaten</th>\n",
       "      <th>VitD_supp</th>\n",
       "      <th>Soft_drink</th>\n",
       "      <th>Initial_admin</th>\n",
       "      <th>HighBlood</th>\n",
       "      <th>Stroke</th>\n",
       "      <th>Complication_risk</th>\n",
       "      <th>Arthritis</th>\n",
       "      <th>Diabetes</th>\n",
       "      <th>Hyperlipidemia</th>\n",
       "      <th>BackPain</th>\n",
       "      <th>Allergic_rhinitis</th>\n",
       "      <th>Reflux_esophagitis</th>\n",
       "      <th>Asthma</th>\n",
       "      <th>Services</th>\n",
       "      <th>TotalCharge</th>\n",
       "      <th>Additional_charges</th>\n",
       "      <th>Admissions</th>\n",
       "      <th>Treatment</th>\n",
       "      <th>Visits</th>\n",
       "      <th>Reliability</th>\n",
       "      <th>Options</th>\n",
       "      <th>Hours</th>\n",
       "      <th>Courteous</th>\n",
       "      <th>Dr_comm</th>\n",
       "      <th>Children</th>\n",
       "      <th>Age</th>\n",
       "      <th>Income</th>\n",
       "      <th>Overweight</th>\n",
       "      <th>Anxiety</th>\n",
       "      <th>Initial_days</th>\n",
       "    </tr>\n",
       "    <tr>\n",
       "      <th>Customer_id</th>\n",
       "      <th></th>\n",
       "      <th></th>\n",
       "      <th></th>\n",
       "      <th></th>\n",
       "      <th></th>\n",
       "      <th></th>\n",
       "      <th></th>\n",
       "      <th></th>\n",
       "      <th></th>\n",
       "      <th></th>\n",
       "      <th></th>\n",
       "      <th></th>\n",
       "      <th></th>\n",
       "      <th></th>\n",
       "      <th></th>\n",
       "      <th></th>\n",
       "      <th></th>\n",
       "      <th></th>\n",
       "      <th></th>\n",
       "      <th></th>\n",
       "      <th></th>\n",
       "      <th></th>\n",
       "      <th></th>\n",
       "      <th></th>\n",
       "      <th></th>\n",
       "      <th></th>\n",
       "      <th></th>\n",
       "      <th></th>\n",
       "      <th></th>\n",
       "      <th></th>\n",
       "      <th></th>\n",
       "      <th></th>\n",
       "      <th></th>\n",
       "      <th></th>\n",
       "      <th></th>\n",
       "      <th></th>\n",
       "      <th></th>\n",
       "      <th></th>\n",
       "      <th></th>\n",
       "      <th></th>\n",
       "      <th></th>\n",
       "      <th></th>\n",
       "      <th></th>\n",
       "      <th></th>\n",
       "      <th></th>\n",
       "      <th></th>\n",
       "      <th></th>\n",
       "      <th></th>\n",
       "      <th></th>\n",
       "      <th></th>\n",
       "      <th></th>\n",
       "    </tr>\n",
       "  </thead>\n",
       "  <tbody>\n",
       "    <tr>\n",
       "      <th>C412403</th>\n",
       "      <td>1</td>\n",
       "      <td>8cd49b13-f45a-4b47-a2bd-173ffa932c2f</td>\n",
       "      <td>3a83ddb66e2ae73798bdf1d705dc0932</td>\n",
       "      <td>Eva</td>\n",
       "      <td>AL</td>\n",
       "      <td>Morgan</td>\n",
       "      <td>35621</td>\n",
       "      <td>34.34960</td>\n",
       "      <td>-86.72508</td>\n",
       "      <td>2951</td>\n",
       "      <td>Suburban</td>\n",
       "      <td>America/Chicago</td>\n",
       "      <td>Psychologist, sport and exercise</td>\n",
       "      <td>Some College, Less than 1 Year</td>\n",
       "      <td>Full Time</td>\n",
       "      <td>Divorced</td>\n",
       "      <td>Male</td>\n",
       "      <td>No</td>\n",
       "      <td>17.802330</td>\n",
       "      <td>6</td>\n",
       "      <td>0</td>\n",
       "      <td>0</td>\n",
       "      <td>No</td>\n",
       "      <td>Emergency Admission</td>\n",
       "      <td>Yes</td>\n",
       "      <td>No</td>\n",
       "      <td>Medium</td>\n",
       "      <td>Yes</td>\n",
       "      <td>Yes</td>\n",
       "      <td>No</td>\n",
       "      <td>Yes</td>\n",
       "      <td>Yes</td>\n",
       "      <td>No</td>\n",
       "      <td>Yes</td>\n",
       "      <td>Blood Work</td>\n",
       "      <td>3191.048774</td>\n",
       "      <td>17939.403420</td>\n",
       "      <td>3</td>\n",
       "      <td>3</td>\n",
       "      <td>2</td>\n",
       "      <td>2</td>\n",
       "      <td>4</td>\n",
       "      <td>3</td>\n",
       "      <td>3</td>\n",
       "      <td>4</td>\n",
       "      <td>3.000000</td>\n",
       "      <td>51.0</td>\n",
       "      <td>46805.99000</td>\n",
       "      <td>1.0</td>\n",
       "      <td>0.320908</td>\n",
       "      <td>15</td>\n",
       "    </tr>\n",
       "    <tr>\n",
       "      <th>Z919181</th>\n",
       "      <td>2</td>\n",
       "      <td>d2450b70-0337-4406-bdbb-bc1037f1734c</td>\n",
       "      <td>176354c5eef714957d486009feabf195</td>\n",
       "      <td>Marianna</td>\n",
       "      <td>FL</td>\n",
       "      <td>Jackson</td>\n",
       "      <td>32446</td>\n",
       "      <td>30.84513</td>\n",
       "      <td>-85.22907</td>\n",
       "      <td>11303</td>\n",
       "      <td>Urban</td>\n",
       "      <td>America/Chicago</td>\n",
       "      <td>Community development worker</td>\n",
       "      <td>Some College, 1 or More Years, No Degree</td>\n",
       "      <td>Full Time</td>\n",
       "      <td>Married</td>\n",
       "      <td>Female</td>\n",
       "      <td>No</td>\n",
       "      <td>18.994640</td>\n",
       "      <td>4</td>\n",
       "      <td>2</td>\n",
       "      <td>1</td>\n",
       "      <td>No</td>\n",
       "      <td>Emergency Admission</td>\n",
       "      <td>Yes</td>\n",
       "      <td>No</td>\n",
       "      <td>High</td>\n",
       "      <td>No</td>\n",
       "      <td>No</td>\n",
       "      <td>No</td>\n",
       "      <td>No</td>\n",
       "      <td>No</td>\n",
       "      <td>Yes</td>\n",
       "      <td>No</td>\n",
       "      <td>Intravenous</td>\n",
       "      <td>4214.905346</td>\n",
       "      <td>17612.998120</td>\n",
       "      <td>3</td>\n",
       "      <td>4</td>\n",
       "      <td>3</td>\n",
       "      <td>4</td>\n",
       "      <td>4</td>\n",
       "      <td>4</td>\n",
       "      <td>3</td>\n",
       "      <td>3</td>\n",
       "      <td>3.000000</td>\n",
       "      <td>53.0</td>\n",
       "      <td>14370.14000</td>\n",
       "      <td>1.0</td>\n",
       "      <td>0.321309</td>\n",
       "      <td>4</td>\n",
       "    </tr>\n",
       "    <tr>\n",
       "      <th>F995323</th>\n",
       "      <td>3</td>\n",
       "      <td>a2057123-abf5-4a2c-abad-8ffe33512562</td>\n",
       "      <td>e19a0fa00aeda885b8a436757e889bc9</td>\n",
       "      <td>Sioux Falls</td>\n",
       "      <td>SD</td>\n",
       "      <td>Minnehaha</td>\n",
       "      <td>57110</td>\n",
       "      <td>43.54321</td>\n",
       "      <td>-96.63772</td>\n",
       "      <td>17125</td>\n",
       "      <td>Suburban</td>\n",
       "      <td>America/Chicago</td>\n",
       "      <td>Chief Executive Officer</td>\n",
       "      <td>Some College, 1 or More Years, No Degree</td>\n",
       "      <td>Retired</td>\n",
       "      <td>Widowed</td>\n",
       "      <td>Female</td>\n",
       "      <td>No</td>\n",
       "      <td>17.415889</td>\n",
       "      <td>4</td>\n",
       "      <td>1</td>\n",
       "      <td>0</td>\n",
       "      <td>No</td>\n",
       "      <td>Elective Admission</td>\n",
       "      <td>Yes</td>\n",
       "      <td>No</td>\n",
       "      <td>Medium</td>\n",
       "      <td>No</td>\n",
       "      <td>Yes</td>\n",
       "      <td>No</td>\n",
       "      <td>No</td>\n",
       "      <td>No</td>\n",
       "      <td>No</td>\n",
       "      <td>No</td>\n",
       "      <td>Blood Work</td>\n",
       "      <td>2177.586768</td>\n",
       "      <td>17505.192460</td>\n",
       "      <td>2</td>\n",
       "      <td>4</td>\n",
       "      <td>4</td>\n",
       "      <td>4</td>\n",
       "      <td>3</td>\n",
       "      <td>4</td>\n",
       "      <td>3</td>\n",
       "      <td>3</td>\n",
       "      <td>0.000000</td>\n",
       "      <td>78.0</td>\n",
       "      <td>39741.49000</td>\n",
       "      <td>0.0</td>\n",
       "      <td>0.322654</td>\n",
       "      <td>1</td>\n",
       "    </tr>\n",
       "    <tr>\n",
       "      <th>A879973</th>\n",
       "      <td>4</td>\n",
       "      <td>1dec528d-eb34-4079-adce-0d7a40e82205</td>\n",
       "      <td>cd17d7b6d152cb6f23957346d11c3f07</td>\n",
       "      <td>New Richland</td>\n",
       "      <td>MN</td>\n",
       "      <td>Waseca</td>\n",
       "      <td>56072</td>\n",
       "      <td>43.89744</td>\n",
       "      <td>-93.51479</td>\n",
       "      <td>2162</td>\n",
       "      <td>Suburban</td>\n",
       "      <td>America/Chicago</td>\n",
       "      <td>Early years teacher</td>\n",
       "      <td>GED or Alternative Credential</td>\n",
       "      <td>Retired</td>\n",
       "      <td>Married</td>\n",
       "      <td>Male</td>\n",
       "      <td>No</td>\n",
       "      <td>17.420079</td>\n",
       "      <td>4</td>\n",
       "      <td>1</td>\n",
       "      <td>0</td>\n",
       "      <td>No</td>\n",
       "      <td>Elective Admission</td>\n",
       "      <td>No</td>\n",
       "      <td>Yes</td>\n",
       "      <td>Medium</td>\n",
       "      <td>Yes</td>\n",
       "      <td>No</td>\n",
       "      <td>No</td>\n",
       "      <td>No</td>\n",
       "      <td>No</td>\n",
       "      <td>Yes</td>\n",
       "      <td>Yes</td>\n",
       "      <td>Blood Work</td>\n",
       "      <td>2465.118965</td>\n",
       "      <td>12993.437350</td>\n",
       "      <td>3</td>\n",
       "      <td>5</td>\n",
       "      <td>5</td>\n",
       "      <td>3</td>\n",
       "      <td>4</td>\n",
       "      <td>5</td>\n",
       "      <td>5</td>\n",
       "      <td>5</td>\n",
       "      <td>2.035524</td>\n",
       "      <td>22.0</td>\n",
       "      <td>1209.56000</td>\n",
       "      <td>0.0</td>\n",
       "      <td>0.000000</td>\n",
       "      <td>1</td>\n",
       "    </tr>\n",
       "    <tr>\n",
       "      <th>C544523</th>\n",
       "      <td>5</td>\n",
       "      <td>5885f56b-d6da-43a3-8760-83583af94266</td>\n",
       "      <td>d2f0425877b10ed6bb381f3e2579424a</td>\n",
       "      <td>West Point</td>\n",
       "      <td>VA</td>\n",
       "      <td>King William</td>\n",
       "      <td>23181</td>\n",
       "      <td>37.59894</td>\n",
       "      <td>-76.88958</td>\n",
       "      <td>5287</td>\n",
       "      <td>Rural</td>\n",
       "      <td>America/New_York</td>\n",
       "      <td>Health promotion specialist</td>\n",
       "      <td>Regular High School Diploma</td>\n",
       "      <td>Full Time</td>\n",
       "      <td>Widowed</td>\n",
       "      <td>Female</td>\n",
       "      <td>No</td>\n",
       "      <td>16.870524</td>\n",
       "      <td>5</td>\n",
       "      <td>0</td>\n",
       "      <td>2</td>\n",
       "      <td>Yes</td>\n",
       "      <td>Elective Admission</td>\n",
       "      <td>No</td>\n",
       "      <td>No</td>\n",
       "      <td>Low</td>\n",
       "      <td>No</td>\n",
       "      <td>No</td>\n",
       "      <td>Yes</td>\n",
       "      <td>No</td>\n",
       "      <td>Yes</td>\n",
       "      <td>No</td>\n",
       "      <td>No</td>\n",
       "      <td>CT Scan</td>\n",
       "      <td>1885.655137</td>\n",
       "      <td>3716.525786</td>\n",
       "      <td>2</td>\n",
       "      <td>1</td>\n",
       "      <td>3</td>\n",
       "      <td>3</td>\n",
       "      <td>5</td>\n",
       "      <td>3</td>\n",
       "      <td>4</td>\n",
       "      <td>3</td>\n",
       "      <td>2.079285</td>\n",
       "      <td>76.0</td>\n",
       "      <td>40484.44717</td>\n",
       "      <td>1.0</td>\n",
       "      <td>0.000000</td>\n",
       "      <td>5</td>\n",
       "    </tr>\n",
       "  </tbody>\n",
       "</table>\n",
       "</div>"
      ],
      "text/plain": [
       "             Unnamed: 0                           Interaction  \\\n",
       "Customer_id                                                     \n",
       "C412403               1  8cd49b13-f45a-4b47-a2bd-173ffa932c2f   \n",
       "Z919181               2  d2450b70-0337-4406-bdbb-bc1037f1734c   \n",
       "F995323               3  a2057123-abf5-4a2c-abad-8ffe33512562   \n",
       "A879973               4  1dec528d-eb34-4079-adce-0d7a40e82205   \n",
       "C544523               5  5885f56b-d6da-43a3-8760-83583af94266   \n",
       "\n",
       "                                          UID          City State  \\\n",
       "Customer_id                                                         \n",
       "C412403      3a83ddb66e2ae73798bdf1d705dc0932           Eva    AL   \n",
       "Z919181      176354c5eef714957d486009feabf195      Marianna    FL   \n",
       "F995323      e19a0fa00aeda885b8a436757e889bc9   Sioux Falls    SD   \n",
       "A879973      cd17d7b6d152cb6f23957346d11c3f07  New Richland    MN   \n",
       "C544523      d2f0425877b10ed6bb381f3e2579424a    West Point    VA   \n",
       "\n",
       "                   County    Zip  Latitude  Longitude  Population      Area  \\\n",
       "Customer_id                                                                   \n",
       "C412403            Morgan  35621  34.34960  -86.72508        2951  Suburban   \n",
       "Z919181           Jackson  32446  30.84513  -85.22907       11303     Urban   \n",
       "F995323         Minnehaha  57110  43.54321  -96.63772       17125  Suburban   \n",
       "A879973            Waseca  56072  43.89744  -93.51479        2162  Suburban   \n",
       "C544523      King William  23181  37.59894  -76.88958        5287     Rural   \n",
       "\n",
       "                     Timezone                               Job  \\\n",
       "Customer_id                                                       \n",
       "C412403       America/Chicago  Psychologist, sport and exercise   \n",
       "Z919181       America/Chicago      Community development worker   \n",
       "F995323       America/Chicago           Chief Executive Officer   \n",
       "A879973       America/Chicago               Early years teacher   \n",
       "C544523      America/New_York       Health promotion specialist   \n",
       "\n",
       "                                            Education Employment   Marital  \\\n",
       "Customer_id                                                                  \n",
       "C412403                Some College, Less than 1 Year  Full Time  Divorced   \n",
       "Z919181      Some College, 1 or More Years, No Degree  Full Time   Married   \n",
       "F995323      Some College, 1 or More Years, No Degree    Retired   Widowed   \n",
       "A879973                 GED or Alternative Credential    Retired   Married   \n",
       "C544523                   Regular High School Diploma  Full Time   Widowed   \n",
       "\n",
       "             Gender ReAdmis  VitD_levels  Doc_visits  Full_meals_eaten  \\\n",
       "Customer_id                                                              \n",
       "C412403        Male      No    17.802330           6                 0   \n",
       "Z919181      Female      No    18.994640           4                 2   \n",
       "F995323      Female      No    17.415889           4                 1   \n",
       "A879973        Male      No    17.420079           4                 1   \n",
       "C544523      Female      No    16.870524           5                 0   \n",
       "\n",
       "             VitD_supp Soft_drink        Initial_admin HighBlood Stroke  \\\n",
       "Customer_id                                                               \n",
       "C412403              0         No  Emergency Admission       Yes     No   \n",
       "Z919181              1         No  Emergency Admission       Yes     No   \n",
       "F995323              0         No   Elective Admission       Yes     No   \n",
       "A879973              0         No   Elective Admission        No    Yes   \n",
       "C544523              2        Yes   Elective Admission        No     No   \n",
       "\n",
       "            Complication_risk Arthritis Diabetes Hyperlipidemia BackPain  \\\n",
       "Customer_id                                                                \n",
       "C412403                Medium       Yes      Yes             No      Yes   \n",
       "Z919181                  High        No       No             No       No   \n",
       "F995323                Medium        No      Yes             No       No   \n",
       "A879973                Medium       Yes       No             No       No   \n",
       "C544523                   Low        No       No            Yes       No   \n",
       "\n",
       "            Allergic_rhinitis Reflux_esophagitis Asthma     Services  \\\n",
       "Customer_id                                                            \n",
       "C412403                   Yes                 No    Yes   Blood Work   \n",
       "Z919181                    No                Yes     No  Intravenous   \n",
       "F995323                    No                 No     No   Blood Work   \n",
       "A879973                    No                Yes    Yes   Blood Work   \n",
       "C544523                   Yes                 No     No      CT Scan   \n",
       "\n",
       "             TotalCharge  Additional_charges  Admissions  Treatment  Visits  \\\n",
       "Customer_id                                                                   \n",
       "C412403      3191.048774        17939.403420           3          3       2   \n",
       "Z919181      4214.905346        17612.998120           3          4       3   \n",
       "F995323      2177.586768        17505.192460           2          4       4   \n",
       "A879973      2465.118965        12993.437350           3          5       5   \n",
       "C544523      1885.655137         3716.525786           2          1       3   \n",
       "\n",
       "             Reliability  Options  Hours  Courteous  Dr_comm  Children   Age  \\\n",
       "Customer_id                                                                    \n",
       "C412403                2        4      3          3        4  3.000000  51.0   \n",
       "Z919181                4        4      4          3        3  3.000000  53.0   \n",
       "F995323                4        3      4          3        3  0.000000  78.0   \n",
       "A879973                3        4      5          5        5  2.035524  22.0   \n",
       "C544523                3        5      3          4        3  2.079285  76.0   \n",
       "\n",
       "                  Income  Overweight   Anxiety  Initial_days  \n",
       "Customer_id                                                   \n",
       "C412403      46805.99000         1.0  0.320908            15  \n",
       "Z919181      14370.14000         1.0  0.321309             4  \n",
       "F995323      39741.49000         0.0  0.322654             1  \n",
       "A879973       1209.56000         0.0  0.000000             1  \n",
       "C544523      40484.44717         1.0  0.000000             5  "
      ]
     },
     "execution_count": 2,
     "metadata": {},
     "output_type": "execute_result"
    }
   ],
   "source": [
    "# Describe the variables contained in 'meddf' data frame and output to a file called VariableDesc.xlsx\n",
    "med_data_fields = meddf.dtypes\n",
    "# med_data_fields.to_excel(r'VariableDescriptions.xlsx', index = True)\n",
    "#med_data_fields\n",
    "meddf.head()"
   ]
  },
  {
   "cell_type": "code",
   "execution_count": 3,
   "metadata": {},
   "outputs": [
    {
     "name": "stdout",
     "output_type": "stream",
     "text": [
      "# of rows:  9999\n"
     ]
    }
   ],
   "source": [
    "# Describe dataset \n",
    "print(\"# of rows: \", meddf.shape[0])"
   ]
  },
  {
   "cell_type": "code",
   "execution_count": 4,
   "metadata": {},
   "outputs": [
    {
     "data": {
      "text/html": [
       "<div>\n",
       "<style scoped>\n",
       "    .dataframe tbody tr th:only-of-type {\n",
       "        vertical-align: middle;\n",
       "    }\n",
       "\n",
       "    .dataframe tbody tr th {\n",
       "        vertical-align: top;\n",
       "    }\n",
       "\n",
       "    .dataframe thead th {\n",
       "        text-align: right;\n",
       "    }\n",
       "</style>\n",
       "<table border=\"1\" class=\"dataframe\">\n",
       "  <thead>\n",
       "    <tr style=\"text-align: right;\">\n",
       "      <th></th>\n",
       "      <th>Unnamed: 0</th>\n",
       "      <th>Zip</th>\n",
       "      <th>Latitude</th>\n",
       "      <th>Longitude</th>\n",
       "      <th>Population</th>\n",
       "      <th>VitD_levels</th>\n",
       "      <th>Doc_visits</th>\n",
       "      <th>Full_meals_eaten</th>\n",
       "      <th>VitD_supp</th>\n",
       "      <th>TotalCharge</th>\n",
       "      <th>Additional_charges</th>\n",
       "      <th>Admissions</th>\n",
       "      <th>Treatment</th>\n",
       "      <th>Visits</th>\n",
       "      <th>Reliability</th>\n",
       "      <th>Options</th>\n",
       "      <th>Hours</th>\n",
       "      <th>Courteous</th>\n",
       "      <th>Dr_comm</th>\n",
       "      <th>Children</th>\n",
       "      <th>Age</th>\n",
       "      <th>Income</th>\n",
       "      <th>Overweight</th>\n",
       "      <th>Anxiety</th>\n",
       "      <th>Initial_days</th>\n",
       "    </tr>\n",
       "  </thead>\n",
       "  <tbody>\n",
       "    <tr>\n",
       "      <th>count</th>\n",
       "      <td>9999.000000</td>\n",
       "      <td>9999.000000</td>\n",
       "      <td>9999.000000</td>\n",
       "      <td>9999.000000</td>\n",
       "      <td>9999.00000</td>\n",
       "      <td>9999.000000</td>\n",
       "      <td>9999.000000</td>\n",
       "      <td>9999.000000</td>\n",
       "      <td>9999.000000</td>\n",
       "      <td>9999.000000</td>\n",
       "      <td>9999.000000</td>\n",
       "      <td>9999.000000</td>\n",
       "      <td>9999.000000</td>\n",
       "      <td>9999.000000</td>\n",
       "      <td>9999.000000</td>\n",
       "      <td>9999.000000</td>\n",
       "      <td>9999.000000</td>\n",
       "      <td>9999.000000</td>\n",
       "      <td>9999.000000</td>\n",
       "      <td>9999.000000</td>\n",
       "      <td>9999.000000</td>\n",
       "      <td>9999.000000</td>\n",
       "      <td>9999.000000</td>\n",
       "      <td>9999.000000</td>\n",
       "      <td>9999.000000</td>\n",
       "    </tr>\n",
       "    <tr>\n",
       "      <th>mean</th>\n",
       "      <td>5000.000000</td>\n",
       "      <td>50162.829383</td>\n",
       "      <td>38.750924</td>\n",
       "      <td>-91.244184</td>\n",
       "      <td>9962.09761</td>\n",
       "      <td>19.412574</td>\n",
       "      <td>5.012201</td>\n",
       "      <td>1.001500</td>\n",
       "      <td>0.398840</td>\n",
       "      <td>5891.257302</td>\n",
       "      <td>12934.657732</td>\n",
       "      <td>3.518752</td>\n",
       "      <td>3.506751</td>\n",
       "      <td>3.511151</td>\n",
       "      <td>3.515252</td>\n",
       "      <td>3.496950</td>\n",
       "      <td>3.522252</td>\n",
       "      <td>3.493949</td>\n",
       "      <td>3.509751</td>\n",
       "      <td>2.098660</td>\n",
       "      <td>53.296795</td>\n",
       "      <td>40479.829026</td>\n",
       "      <td>0.709214</td>\n",
       "      <td>0.322255</td>\n",
       "      <td>33.938594</td>\n",
       "    </tr>\n",
       "    <tr>\n",
       "      <th>std</th>\n",
       "      <td>2886.607005</td>\n",
       "      <td>27468.724995</td>\n",
       "      <td>5.403327</td>\n",
       "      <td>15.206357</td>\n",
       "      <td>14822.13967</td>\n",
       "      <td>6.723606</td>\n",
       "      <td>1.045787</td>\n",
       "      <td>1.008118</td>\n",
       "      <td>0.628507</td>\n",
       "      <td>3377.610179</td>\n",
       "      <td>6542.915985</td>\n",
       "      <td>1.032006</td>\n",
       "      <td>1.034864</td>\n",
       "      <td>1.032794</td>\n",
       "      <td>1.036223</td>\n",
       "      <td>1.030232</td>\n",
       "      <td>1.032130</td>\n",
       "      <td>1.021444</td>\n",
       "      <td>1.042352</td>\n",
       "      <td>1.855754</td>\n",
       "      <td>17.994487</td>\n",
       "      <td>24880.572722</td>\n",
       "      <td>0.431281</td>\n",
       "      <td>0.443767</td>\n",
       "      <td>24.852238</td>\n",
       "    </tr>\n",
       "    <tr>\n",
       "      <th>min</th>\n",
       "      <td>1.000000</td>\n",
       "      <td>610.000000</td>\n",
       "      <td>17.967190</td>\n",
       "      <td>-174.209690</td>\n",
       "      <td>0.00000</td>\n",
       "      <td>9.519012</td>\n",
       "      <td>1.000000</td>\n",
       "      <td>0.000000</td>\n",
       "      <td>0.000000</td>\n",
       "      <td>1256.751699</td>\n",
       "      <td>3125.702716</td>\n",
       "      <td>1.000000</td>\n",
       "      <td>1.000000</td>\n",
       "      <td>1.000000</td>\n",
       "      <td>1.000000</td>\n",
       "      <td>1.000000</td>\n",
       "      <td>1.000000</td>\n",
       "      <td>1.000000</td>\n",
       "      <td>1.000000</td>\n",
       "      <td>0.000000</td>\n",
       "      <td>18.000000</td>\n",
       "      <td>154.080000</td>\n",
       "      <td>0.000000</td>\n",
       "      <td>0.000000</td>\n",
       "      <td>1.000000</td>\n",
       "    </tr>\n",
       "    <tr>\n",
       "      <th>25%</th>\n",
       "      <td>2500.500000</td>\n",
       "      <td>27600.500000</td>\n",
       "      <td>35.255120</td>\n",
       "      <td>-97.353525</td>\n",
       "      <td>694.50000</td>\n",
       "      <td>16.513078</td>\n",
       "      <td>4.000000</td>\n",
       "      <td>0.000000</td>\n",
       "      <td>0.000000</td>\n",
       "      <td>3252.917043</td>\n",
       "      <td>7986.270943</td>\n",
       "      <td>3.000000</td>\n",
       "      <td>3.000000</td>\n",
       "      <td>3.000000</td>\n",
       "      <td>3.000000</td>\n",
       "      <td>3.000000</td>\n",
       "      <td>3.000000</td>\n",
       "      <td>3.000000</td>\n",
       "      <td>3.000000</td>\n",
       "      <td>1.000000</td>\n",
       "      <td>41.000000</td>\n",
       "      <td>23948.445000</td>\n",
       "      <td>0.000000</td>\n",
       "      <td>0.000000</td>\n",
       "      <td>8.000000</td>\n",
       "    </tr>\n",
       "    <tr>\n",
       "      <th>50%</th>\n",
       "      <td>5000.000000</td>\n",
       "      <td>50208.000000</td>\n",
       "      <td>39.419060</td>\n",
       "      <td>-88.399240</td>\n",
       "      <td>2765.00000</td>\n",
       "      <td>18.080368</td>\n",
       "      <td>5.000000</td>\n",
       "      <td>1.000000</td>\n",
       "      <td>0.000000</td>\n",
       "      <td>5851.488972</td>\n",
       "      <td>11573.903260</td>\n",
       "      <td>4.000000</td>\n",
       "      <td>3.000000</td>\n",
       "      <td>4.000000</td>\n",
       "      <td>4.000000</td>\n",
       "      <td>3.000000</td>\n",
       "      <td>4.000000</td>\n",
       "      <td>3.000000</td>\n",
       "      <td>3.000000</td>\n",
       "      <td>2.058606</td>\n",
       "      <td>53.300937</td>\n",
       "      <td>40484.397510</td>\n",
       "      <td>1.000000</td>\n",
       "      <td>0.000000</td>\n",
       "      <td>34.000000</td>\n",
       "    </tr>\n",
       "    <tr>\n",
       "      <th>75%</th>\n",
       "      <td>7499.500000</td>\n",
       "      <td>72412.500000</td>\n",
       "      <td>42.044220</td>\n",
       "      <td>-80.439205</td>\n",
       "      <td>13938.00000</td>\n",
       "      <td>19.789360</td>\n",
       "      <td>6.000000</td>\n",
       "      <td>2.000000</td>\n",
       "      <td>1.000000</td>\n",
       "      <td>7614.327715</td>\n",
       "      <td>15626.601495</td>\n",
       "      <td>4.000000</td>\n",
       "      <td>4.000000</td>\n",
       "      <td>4.000000</td>\n",
       "      <td>4.000000</td>\n",
       "      <td>4.000000</td>\n",
       "      <td>4.000000</td>\n",
       "      <td>4.000000</td>\n",
       "      <td>4.000000</td>\n",
       "      <td>3.000000</td>\n",
       "      <td>65.000000</td>\n",
       "      <td>46463.540000</td>\n",
       "      <td>1.000000</td>\n",
       "      <td>1.000000</td>\n",
       "      <td>59.000000</td>\n",
       "    </tr>\n",
       "    <tr>\n",
       "      <th>max</th>\n",
       "      <td>9999.000000</td>\n",
       "      <td>99929.000000</td>\n",
       "      <td>70.560990</td>\n",
       "      <td>-65.290170</td>\n",
       "      <td>122814.00000</td>\n",
       "      <td>53.019124</td>\n",
       "      <td>9.000000</td>\n",
       "      <td>7.000000</td>\n",
       "      <td>5.000000</td>\n",
       "      <td>21524.224210</td>\n",
       "      <td>30566.073130</td>\n",
       "      <td>8.000000</td>\n",
       "      <td>7.000000</td>\n",
       "      <td>8.000000</td>\n",
       "      <td>7.000000</td>\n",
       "      <td>7.000000</td>\n",
       "      <td>7.000000</td>\n",
       "      <td>7.000000</td>\n",
       "      <td>7.000000</td>\n",
       "      <td>10.000000</td>\n",
       "      <td>89.000000</td>\n",
       "      <td>207249.130000</td>\n",
       "      <td>1.000000</td>\n",
       "      <td>1.000000</td>\n",
       "      <td>71.000000</td>\n",
       "    </tr>\n",
       "  </tbody>\n",
       "</table>\n",
       "</div>"
      ],
      "text/plain": [
       "        Unnamed: 0           Zip     Latitude    Longitude    Population  \\\n",
       "count  9999.000000   9999.000000  9999.000000  9999.000000    9999.00000   \n",
       "mean   5000.000000  50162.829383    38.750924   -91.244184    9962.09761   \n",
       "std    2886.607005  27468.724995     5.403327    15.206357   14822.13967   \n",
       "min       1.000000    610.000000    17.967190  -174.209690       0.00000   \n",
       "25%    2500.500000  27600.500000    35.255120   -97.353525     694.50000   \n",
       "50%    5000.000000  50208.000000    39.419060   -88.399240    2765.00000   \n",
       "75%    7499.500000  72412.500000    42.044220   -80.439205   13938.00000   \n",
       "max    9999.000000  99929.000000    70.560990   -65.290170  122814.00000   \n",
       "\n",
       "       VitD_levels   Doc_visits  Full_meals_eaten    VitD_supp   TotalCharge  \\\n",
       "count  9999.000000  9999.000000       9999.000000  9999.000000   9999.000000   \n",
       "mean     19.412574     5.012201          1.001500     0.398840   5891.257302   \n",
       "std       6.723606     1.045787          1.008118     0.628507   3377.610179   \n",
       "min       9.519012     1.000000          0.000000     0.000000   1256.751699   \n",
       "25%      16.513078     4.000000          0.000000     0.000000   3252.917043   \n",
       "50%      18.080368     5.000000          1.000000     0.000000   5851.488972   \n",
       "75%      19.789360     6.000000          2.000000     1.000000   7614.327715   \n",
       "max      53.019124     9.000000          7.000000     5.000000  21524.224210   \n",
       "\n",
       "       Additional_charges   Admissions    Treatment       Visits  Reliability  \\\n",
       "count         9999.000000  9999.000000  9999.000000  9999.000000  9999.000000   \n",
       "mean         12934.657732     3.518752     3.506751     3.511151     3.515252   \n",
       "std           6542.915985     1.032006     1.034864     1.032794     1.036223   \n",
       "min           3125.702716     1.000000     1.000000     1.000000     1.000000   \n",
       "25%           7986.270943     3.000000     3.000000     3.000000     3.000000   \n",
       "50%          11573.903260     4.000000     3.000000     4.000000     4.000000   \n",
       "75%          15626.601495     4.000000     4.000000     4.000000     4.000000   \n",
       "max          30566.073130     8.000000     7.000000     8.000000     7.000000   \n",
       "\n",
       "           Options        Hours    Courteous      Dr_comm     Children  \\\n",
       "count  9999.000000  9999.000000  9999.000000  9999.000000  9999.000000   \n",
       "mean      3.496950     3.522252     3.493949     3.509751     2.098660   \n",
       "std       1.030232     1.032130     1.021444     1.042352     1.855754   \n",
       "min       1.000000     1.000000     1.000000     1.000000     0.000000   \n",
       "25%       3.000000     3.000000     3.000000     3.000000     1.000000   \n",
       "50%       3.000000     4.000000     3.000000     3.000000     2.058606   \n",
       "75%       4.000000     4.000000     4.000000     4.000000     3.000000   \n",
       "max       7.000000     7.000000     7.000000     7.000000    10.000000   \n",
       "\n",
       "               Age         Income   Overweight      Anxiety  Initial_days  \n",
       "count  9999.000000    9999.000000  9999.000000  9999.000000   9999.000000  \n",
       "mean     53.296795   40479.829026     0.709214     0.322255     33.938594  \n",
       "std      17.994487   24880.572722     0.431281     0.443767     24.852238  \n",
       "min      18.000000     154.080000     0.000000     0.000000      1.000000  \n",
       "25%      41.000000   23948.445000     0.000000     0.000000      8.000000  \n",
       "50%      53.300937   40484.397510     1.000000     0.000000     34.000000  \n",
       "75%      65.000000   46463.540000     1.000000     1.000000     59.000000  \n",
       "max      89.000000  207249.130000     1.000000     1.000000     71.000000  "
      ]
     },
     "execution_count": 4,
     "metadata": {},
     "output_type": "execute_result"
    }
   ],
   "source": [
    "meddf.describe()"
   ]
  },
  {
   "cell_type": "markdown",
   "metadata": {},
   "source": [
    "# B. Describe the Data Analysis"
   ]
  },
  {
   "cell_type": "code",
   "execution_count": 5,
   "metadata": {},
   "outputs": [],
   "source": [
    "# B1 - chi2_contingency"
   ]
  },
  {
   "cell_type": "code",
   "execution_count": 6,
   "metadata": {},
   "outputs": [],
   "source": [
    "# B2 - Output from calculations"
   ]
  },
  {
   "cell_type": "code",
   "execution_count": 7,
   "metadata": {},
   "outputs": [
    {
     "data": {
      "text/html": [
       "<div>\n",
       "<style scoped>\n",
       "    .dataframe tbody tr th:only-of-type {\n",
       "        vertical-align: middle;\n",
       "    }\n",
       "\n",
       "    .dataframe tbody tr th {\n",
       "        vertical-align: top;\n",
       "    }\n",
       "\n",
       "    .dataframe thead th {\n",
       "        text-align: right;\n",
       "    }\n",
       "</style>\n",
       "<table border=\"1\" class=\"dataframe\">\n",
       "  <thead>\n",
       "    <tr style=\"text-align: right;\">\n",
       "      <th>Services</th>\n",
       "      <th>Blood Work</th>\n",
       "      <th>CT Scan</th>\n",
       "      <th>Intravenous</th>\n",
       "      <th>MRI</th>\n",
       "    </tr>\n",
       "    <tr>\n",
       "      <th>ReAdmis</th>\n",
       "      <th></th>\n",
       "      <th></th>\n",
       "      <th></th>\n",
       "      <th></th>\n",
       "    </tr>\n",
       "  </thead>\n",
       "  <tbody>\n",
       "    <tr>\n",
       "      <th>No</th>\n",
       "      <td>3335</td>\n",
       "      <td>737</td>\n",
       "      <td>2027</td>\n",
       "      <td>232</td>\n",
       "    </tr>\n",
       "    <tr>\n",
       "      <th>Yes</th>\n",
       "      <td>1929</td>\n",
       "      <td>488</td>\n",
       "      <td>1103</td>\n",
       "      <td>148</td>\n",
       "    </tr>\n",
       "  </tbody>\n",
       "</table>\n",
       "</div>"
      ],
      "text/plain": [
       "Services  Blood Work  CT Scan  Intravenous  MRI\n",
       "ReAdmis                                        \n",
       "No              3335      737         2027  232\n",
       "Yes             1929      488         1103  148"
      ]
     },
     "execution_count": 7,
     "metadata": {},
     "output_type": "execute_result"
    }
   ],
   "source": [
    "# create cross tabulation of 'ReAdmis' & 'Services' factors\n",
    "table = pd.crosstab(meddf.ReAdmis, meddf.Services)\n",
    "table"
   ]
  },
  {
   "cell_type": "code",
   "execution_count": 8,
   "metadata": {},
   "outputs": [
    {
     "name": "stdout",
     "output_type": "stream",
     "text": [
      "0.5784107946026986\n",
      "0.6621438263229308\n",
      "0.5441539220522941\n",
      "0.6379310344827587\n"
     ]
    }
   ],
   "source": [
    "print(1929/3335)\n",
    "print(488/737)\n",
    "print(1103/2027)\n",
    "print(148 /232)"
   ]
  },
  {
   "cell_type": "code",
   "execution_count": 9,
   "metadata": {},
   "outputs": [
    {
     "name": "stdout",
     "output_type": "stream",
     "text": [
      "p-value:  0.03071669781650718\n"
     ]
    }
   ],
   "source": [
    "# chi2_contengency\n",
    "s,p,c,d =stats.chi2_contingency(table)\n",
    "print('p-value: ', p)"
   ]
  },
  {
   "cell_type": "markdown",
   "metadata": {},
   "source": [
    "# C. Univariate Analysis:\n",
    "    Univariate Analysis of two continuous and two categorical variables:\n",
    "        Continuous: 'Income', 'Age'\n",
    "        Categorical: 'Treatment', 'ReAdmis'\n"
   ]
  },
  {
   "cell_type": "code",
   "execution_count": 10,
   "metadata": {},
   "outputs": [
    {
     "data": {
      "text/html": [
       "<div>\n",
       "<style scoped>\n",
       "    .dataframe tbody tr th:only-of-type {\n",
       "        vertical-align: middle;\n",
       "    }\n",
       "\n",
       "    .dataframe tbody tr th {\n",
       "        vertical-align: top;\n",
       "    }\n",
       "\n",
       "    .dataframe thead th {\n",
       "        text-align: right;\n",
       "    }\n",
       "</style>\n",
       "<table border=\"1\" class=\"dataframe\">\n",
       "  <thead>\n",
       "    <tr style=\"text-align: right;\">\n",
       "      <th></th>\n",
       "      <th>Income</th>\n",
       "      <th>Age</th>\n",
       "      <th>Treatment</th>\n",
       "      <th>ReAdmis</th>\n",
       "    </tr>\n",
       "  </thead>\n",
       "  <tbody>\n",
       "    <tr>\n",
       "      <th>0</th>\n",
       "      <td>46805.99000</td>\n",
       "      <td>51.0</td>\n",
       "      <td>3</td>\n",
       "      <td>No</td>\n",
       "    </tr>\n",
       "    <tr>\n",
       "      <th>1</th>\n",
       "      <td>14370.14000</td>\n",
       "      <td>53.0</td>\n",
       "      <td>4</td>\n",
       "      <td>No</td>\n",
       "    </tr>\n",
       "    <tr>\n",
       "      <th>2</th>\n",
       "      <td>39741.49000</td>\n",
       "      <td>78.0</td>\n",
       "      <td>4</td>\n",
       "      <td>No</td>\n",
       "    </tr>\n",
       "    <tr>\n",
       "      <th>3</th>\n",
       "      <td>1209.56000</td>\n",
       "      <td>22.0</td>\n",
       "      <td>5</td>\n",
       "      <td>No</td>\n",
       "    </tr>\n",
       "    <tr>\n",
       "      <th>4</th>\n",
       "      <td>40484.44717</td>\n",
       "      <td>76.0</td>\n",
       "      <td>1</td>\n",
       "      <td>No</td>\n",
       "    </tr>\n",
       "  </tbody>\n",
       "</table>\n",
       "</div>"
      ],
      "text/plain": [
       "        Income   Age  Treatment ReAdmis\n",
       "0  46805.99000  51.0          3      No\n",
       "1  14370.14000  53.0          4      No\n",
       "2  39741.49000  78.0          4      No\n",
       "3   1209.56000  22.0          5      No\n",
       "4  40484.44717  76.0          1      No"
      ]
     },
     "execution_count": 10,
     "metadata": {},
     "output_type": "execute_result"
    }
   ],
   "source": [
    "# Create dataframe for univariate analysis\n",
    "univ = meddf[['Income', 'Age', 'Treatment', 'ReAdmis']]\n",
    "\n",
    "# Reset index to standard\n",
    "univ = univ.reset_index()\n",
    "\n",
    "# Remove Customer_id\n",
    "univ.pop('Customer_id')\n",
    "\n",
    "univ.head()"
   ]
  },
  {
   "cell_type": "code",
   "execution_count": 11,
   "metadata": {},
   "outputs": [
    {
     "data": {
      "text/html": [
       "<div>\n",
       "<style scoped>\n",
       "    .dataframe tbody tr th:only-of-type {\n",
       "        vertical-align: middle;\n",
       "    }\n",
       "\n",
       "    .dataframe tbody tr th {\n",
       "        vertical-align: top;\n",
       "    }\n",
       "\n",
       "    .dataframe thead th {\n",
       "        text-align: right;\n",
       "    }\n",
       "</style>\n",
       "<table border=\"1\" class=\"dataframe\">\n",
       "  <thead>\n",
       "    <tr style=\"text-align: right;\">\n",
       "      <th></th>\n",
       "      <th>Income</th>\n",
       "      <th>Age</th>\n",
       "      <th>Treatment</th>\n",
       "    </tr>\n",
       "  </thead>\n",
       "  <tbody>\n",
       "    <tr>\n",
       "      <th>count</th>\n",
       "      <td>9999.000000</td>\n",
       "      <td>9999.000000</td>\n",
       "      <td>9999.000000</td>\n",
       "    </tr>\n",
       "    <tr>\n",
       "      <th>mean</th>\n",
       "      <td>40479.829026</td>\n",
       "      <td>53.296795</td>\n",
       "      <td>3.506751</td>\n",
       "    </tr>\n",
       "    <tr>\n",
       "      <th>std</th>\n",
       "      <td>24880.572722</td>\n",
       "      <td>17.994487</td>\n",
       "      <td>1.034864</td>\n",
       "    </tr>\n",
       "    <tr>\n",
       "      <th>min</th>\n",
       "      <td>154.080000</td>\n",
       "      <td>18.000000</td>\n",
       "      <td>1.000000</td>\n",
       "    </tr>\n",
       "    <tr>\n",
       "      <th>25%</th>\n",
       "      <td>23948.445000</td>\n",
       "      <td>41.000000</td>\n",
       "      <td>3.000000</td>\n",
       "    </tr>\n",
       "    <tr>\n",
       "      <th>50%</th>\n",
       "      <td>40484.397510</td>\n",
       "      <td>53.300937</td>\n",
       "      <td>3.000000</td>\n",
       "    </tr>\n",
       "    <tr>\n",
       "      <th>75%</th>\n",
       "      <td>46463.540000</td>\n",
       "      <td>65.000000</td>\n",
       "      <td>4.000000</td>\n",
       "    </tr>\n",
       "    <tr>\n",
       "      <th>max</th>\n",
       "      <td>207249.130000</td>\n",
       "      <td>89.000000</td>\n",
       "      <td>7.000000</td>\n",
       "    </tr>\n",
       "  </tbody>\n",
       "</table>\n",
       "</div>"
      ],
      "text/plain": [
       "              Income          Age    Treatment\n",
       "count    9999.000000  9999.000000  9999.000000\n",
       "mean    40479.829026    53.296795     3.506751\n",
       "std     24880.572722    17.994487     1.034864\n",
       "min       154.080000    18.000000     1.000000\n",
       "25%     23948.445000    41.000000     3.000000\n",
       "50%     40484.397510    53.300937     3.000000\n",
       "75%     46463.540000    65.000000     4.000000\n",
       "max    207249.130000    89.000000     7.000000"
      ]
     },
     "execution_count": 11,
     "metadata": {},
     "output_type": "execute_result"
    }
   ],
   "source": [
    "# Describe univariate statistics: Income, Age, Treatment\n",
    "univ[['Income', 'Age', 'Treatment']].describe()"
   ]
  },
  {
   "cell_type": "code",
   "execution_count": 12,
   "metadata": {},
   "outputs": [
    {
     "name": "stdout",
     "output_type": "stream",
     "text": [
      "ReAdmis value counts\n",
      "No     6331\n",
      "Yes    3668\n",
      "Name: ReAdmis, dtype: int64\n"
     ]
    }
   ],
   "source": [
    "# Perform value counts on discrete variables\n",
    "print(\"ReAdmis value counts\")\n",
    "print(univ['ReAdmis'].value_counts())"
   ]
  },
  {
   "cell_type": "code",
   "execution_count": 13,
   "metadata": {},
   "outputs": [
    {
     "name": "stdout",
     "output_type": "stream",
     "text": [
      "Treatment value counts\n",
      "3    3438\n",
      "4    3351\n",
      "5    1421\n",
      "2    1360\n",
      "1     213\n",
      "6     204\n",
      "7      12\n",
      "Name: Treatment, dtype: int64\n"
     ]
    }
   ],
   "source": [
    "# Perform value counts on discrete variables\n",
    "\n",
    "print(\"Treatment value counts\")\n",
    "print(univ['Treatment'].value_counts())"
   ]
  },
  {
   "cell_type": "markdown",
   "metadata": {},
   "source": [
    "# C1. Represent Findings Visually"
   ]
  },
  {
   "cell_type": "code",
   "execution_count": 14,
   "metadata": {},
   "outputs": [
    {
     "data": {
      "image/png": "[encoded data removed]",
      "text/plain": [
       "<Figure size 432x288 with 1 Axes>"
      ]
     },
     "metadata": {
      "needs_background": "light"
     },
     "output_type": "display_data"
    }
   ],
   "source": [
    "# count plot of discrete univariates\n",
    "sns.countplot(data = univ\n",
    "            ,x = 'ReAdmis'\n",
    "            )\n",
    "\n",
    "plt.savefig('univ_countplot_readmis.jpg')\n",
    "plt.show()"
   ]
  },
  {
   "cell_type": "code",
   "execution_count": 15,
   "metadata": {},
   "outputs": [
    {
     "data": {
      "image/png": "[encoded data removed]",
      "text/plain": [
       "<Figure size 432x288 with 1 Axes>"
      ]
     },
     "metadata": {
      "needs_background": "light"
     },
     "output_type": "display_data"
    }
   ],
   "source": [
    "# count plot of discrete univariates\n",
    "sns.countplot(data = univ\n",
    "            ,x = 'Treatment'\n",
    "            )\n",
    "# plt.savefig('univ_countplot-treatment.jpg')\n",
    "plt.show()"
   ]
  },
  {
   "cell_type": "code",
   "execution_count": 16,
   "metadata": {},
   "outputs": [
    {
     "data": {
      "image/png": "[encoded data removed]",
      "text/plain": [
       "<Figure size 432x288 with 4 Axes>"
      ]
     },
     "metadata": {
      "needs_background": "light"
     },
     "output_type": "display_data"
    }
   ],
   "source": [
    "# histograms of continuous univariates: Income & Age\n",
    "univ[['Income', 'Age', 'Treatment']].hist()\n",
    "#save figure to file\n",
    "plt.savefig('univ_hist.jpg')\n",
    "plt.tight_layout()"
   ]
  },
  {
   "cell_type": "code",
   "execution_count": 17,
   "metadata": {},
   "outputs": [
    {
     "data": {
      "image/png": "[encoded data removed]",
      "text/plain": [
       "<Figure size 432x288 with 4 Axes>"
      ]
     },
     "metadata": {
      "needs_background": "light"
     },
     "output_type": "display_data"
    }
   ],
   "source": [
    "# Density plots of continuous variables: Income & Age\n",
    "\n",
    "names = univ.columns\n",
    "\n",
    "# data = read_csv(path, names=names)\n",
    "univ[['Income', 'Age', 'Treatment', 'ReAdmis']].plot(kind='density', subplots=True, layout=(2,2), sharex=False)\n",
    "# plt.savefig('univ_density.jpg')\n",
    "plt.tight_layout()"
   ]
  },
  {
   "cell_type": "code",
   "execution_count": 18,
   "metadata": {},
   "outputs": [
    {
     "data": {
      "image/png": "[encoded data removed]",
      "text/plain": [
       "<Figure size 432x288 with 4 Axes>"
      ]
     },
     "metadata": {
      "needs_background": "light"
     },
     "output_type": "display_data"
    }
   ],
   "source": [
    "# Box plot\n",
    "univ.plot(kind='box', subplots=True, layout=(1,4), sharex=False,sharey=False)\n",
    "# plt.savefig('univ_box.jpg')\n",
    "plt.tight_layout()\n"
   ]
  },
  {
   "cell_type": "markdown",
   "metadata": {},
   "source": [
    "# D. Multivariate Analysis:\n",
    "    Multivariate Analysis of two continuous and two categorical variables:\n",
    "        Continuous: 'Inital_days', 'TotalCharge'\n",
    "        Categorical: 'Treatment', 'ReAdmis'"
   ]
  },
  {
   "cell_type": "code",
   "execution_count": 19,
   "metadata": {},
   "outputs": [
    {
     "name": "stdout",
     "output_type": "stream",
     "text": [
      "   Initial_days  TotalCharge  ReAdmis  Treatment\n",
      "0            15  3191.048774        0          3\n",
      "1             4  4214.905346        0          4\n",
      "2             1  2177.586768        0          4\n",
      "3             1  2465.118965        0          5\n",
      "4             5  1885.655137        0          1\n"
     ]
    }
   ],
   "source": [
    "# Create multivariate dataframe (https://www.kaggle.com/sanikamal/introduction-to-multivariate-analysis)\n",
    "multiv = meddf[['Initial_days', 'TotalCharge','ReAdmis','Treatment']].reset_index()\n",
    "multiv.pop('Customer_id')\n",
    "# Replace values for ReAdmis: No,Yes to 0,1\n",
    "multiv.ReAdmis =multiv.ReAdmis.replace(to_replace=['No', 'Yes'], value=[0, 1])\n",
    "X = multiv.loc[:, \"Initial_days\":] # independent variables data\n",
    "Y = multiv.ReAdmis # dependednt variable data\n",
    "print(multiv.head())"
   ]
  },
  {
   "cell_type": "code",
   "execution_count": 20,
   "metadata": {},
   "outputs": [
    {
     "data": {
      "text/plain": [
       "Initial_days      33.938594\n",
       "TotalCharge     5891.257302\n",
       "ReAdmis            0.366837\n",
       "Treatment          3.506751\n",
       "dtype: float64"
      ]
     },
     "execution_count": 20,
     "metadata": {},
     "output_type": "execute_result"
    }
   ],
   "source": [
    "# Variables mean values\n",
    "multiv.apply(np.mean)"
   ]
  },
  {
   "cell_type": "code",
   "execution_count": 21,
   "metadata": {},
   "outputs": [
    {
     "data": {
      "text/plain": [
       "Initial_days      24.850996\n",
       "TotalCharge     3377.441277\n",
       "ReAdmis            0.481941\n",
       "Treatment          1.034812\n",
       "dtype: float64"
      ]
     },
     "execution_count": 21,
     "metadata": {},
     "output_type": "execute_result"
    }
   ],
   "source": [
    "# Variables standard deviation values\n",
    "multiv.apply(np.std)"
   ]
  },
  {
   "cell_type": "code",
   "execution_count": 22,
   "metadata": {},
   "outputs": [
    {
     "data": {
      "text/html": [
       "<div>\n",
       "<style scoped>\n",
       "    .dataframe tbody tr th:only-of-type {\n",
       "        vertical-align: middle;\n",
       "    }\n",
       "\n",
       "    .dataframe tbody tr th {\n",
       "        vertical-align: top;\n",
       "    }\n",
       "\n",
       "    .dataframe thead th {\n",
       "        text-align: right;\n",
       "    }\n",
       "</style>\n",
       "<table border=\"1\" class=\"dataframe\">\n",
       "  <thead>\n",
       "    <tr style=\"text-align: right;\">\n",
       "      <th></th>\n",
       "      <th>Initial_days</th>\n",
       "      <th>TotalCharge</th>\n",
       "      <th>ReAdmis</th>\n",
       "      <th>Treatment</th>\n",
       "    </tr>\n",
       "  </thead>\n",
       "  <tbody>\n",
       "    <tr>\n",
       "      <th>Initial_days</th>\n",
       "      <td>1.000000</td>\n",
       "      <td>0.554804</td>\n",
       "      <td>0.694569</td>\n",
       "      <td>-0.002597</td>\n",
       "    </tr>\n",
       "    <tr>\n",
       "      <th>TotalCharge</th>\n",
       "      <td>0.554804</td>\n",
       "      <td>1.000000</td>\n",
       "      <td>0.557010</td>\n",
       "      <td>-0.018795</td>\n",
       "    </tr>\n",
       "    <tr>\n",
       "      <th>ReAdmis</th>\n",
       "      <td>0.694569</td>\n",
       "      <td>0.557010</td>\n",
       "      <td>1.000000</td>\n",
       "      <td>-0.002359</td>\n",
       "    </tr>\n",
       "    <tr>\n",
       "      <th>Treatment</th>\n",
       "      <td>-0.002597</td>\n",
       "      <td>-0.018795</td>\n",
       "      <td>-0.002359</td>\n",
       "      <td>1.000000</td>\n",
       "    </tr>\n",
       "  </tbody>\n",
       "</table>\n",
       "</div>"
      ],
      "text/plain": [
       "              Initial_days  TotalCharge   ReAdmis  Treatment\n",
       "Initial_days      1.000000     0.554804  0.694569  -0.002597\n",
       "TotalCharge       0.554804     1.000000  0.557010  -0.018795\n",
       "ReAdmis           0.694569     0.557010  1.000000  -0.002359\n",
       "Treatment        -0.002597    -0.018795 -0.002359   1.000000"
      ]
     },
     "execution_count": 22,
     "metadata": {},
     "output_type": "execute_result"
    }
   ],
   "source": [
    "corrmat = multiv.corr()\n",
    "corrmat"
   ]
  },
  {
   "cell_type": "markdown",
   "metadata": {},
   "source": [
    "# D1. Represent Findings Visually"
   ]
  },
  {
   "cell_type": "code",
   "execution_count": 23,
   "metadata": {},
   "outputs": [
    {
     "data": {
      "image/png": "[encoded data removed]",
      "text/plain": [
       "<Figure size 1080x720 with 16 Axes>"
      ]
     },
     "metadata": {
      "needs_background": "light"
     },
     "output_type": "display_data"
    }
   ],
   "source": [
    "#Scatter plot matrix \n",
    "pd.plotting.scatter_matrix(multiv.loc[:, \"Initial_days\":\"Treatment\"], diagonal=\"kde\",figsize=(15, 10))\n",
    "plt.savefig('scatter_plots.jpg')\n",
    "plt.show()"
   ]
  },
  {
   "cell_type": "code",
   "execution_count": 24,
   "metadata": {},
   "outputs": [
    {
     "data": {
      "image/png": "[encoded data removed]",
      "text/plain": [
       "<Figure size 432x288 with 2 Axes>"
      ]
     },
     "metadata": {
      "needs_background": "light"
     },
     "output_type": "display_data"
    }
   ],
   "source": [
    "sns.heatmap(corrmat, vmax=1., square=False).xaxis.tick_top()\n",
    "plt.title('Correlation Matrix of Hospital Data')\n",
    "plt.savefig('corr_matr.jpg')"
   ]
  },
  {
   "cell_type": "code",
   "execution_count": 25,
   "metadata": {},
   "outputs": [
    {
     "data": {
      "image/png": "[encoded data removed]",
      "text/plain": [
       "<Figure size 432x288 with 1 Axes>"
      ]
     },
     "metadata": {
      "needs_background": "light"
     },
     "output_type": "display_data"
    }
   ],
   "source": [
    "# Boxplot of ReAdmis and Initial_days\n",
    "sns.boxplot(y=\"Initial_days\", x= \"ReAdmis\", data = meddf, palette = \"Paired\")\n",
    "plt.savefig('boxplot_ReAdmis-Initial_days.jpg')\n",
    "plt.title(\"ReAdmis and Initial_days\")\n",
    "plt.show()"
   ]
  },
  {
   "cell_type": "code",
   "execution_count": 26,
   "metadata": {},
   "outputs": [
    {
     "data": {
      "image/png": "[encoded data removed]",
      "text/plain": [
       "<Figure size 432x288 with 1 Axes>"
      ]
     },
     "metadata": {
      "needs_background": "light"
     },
     "output_type": "display_data"
    }
   ],
   "source": [
    "# Boxplot of ReAdmis and TotalCharge\n",
    "sns.boxplot(y=\"TotalCharge\", x= \"ReAdmis\", data = meddf, palette = \"Paired\")\n",
    "plt.savefig('boxplot_ReAdmis-TotalCharge.jpg')\n",
    "plt.title(\"ReAdmis and TotalCharge\")\n",
    "plt.show()"
   ]
  },
  {
   "cell_type": "code",
   "execution_count": 27,
   "metadata": {},
   "outputs": [
    {
     "data": {
      "image/png": "[encoded data removed]",
      "text/plain": [
       "<Figure size 432x288 with 1 Axes>"
      ]
     },
     "metadata": {
      "needs_background": "light"
     },
     "output_type": "display_data"
    }
   ],
   "source": [
    "# Boxplot of Treatment and Initial_days\n",
    "sns.boxplot(y=\"Initial_days\", x= \"Treatment\", data = meddf, palette = \"Paired\")\n",
    "plt.savefig('boxplot_Treatment-Initial_days.jpg')\n",
    "plt.title(\"Treatment and Initial_days\")\n",
    "plt.show()"
   ]
  },
  {
   "cell_type": "code",
   "execution_count": 28,
   "metadata": {},
   "outputs": [
    {
     "data": {
      "image/png": "[encoded data removed]",
      "text/plain": [
       "<Figure size 432x288 with 1 Axes>"
      ]
     },
     "metadata": {
      "needs_background": "light"
     },
     "output_type": "display_data"
    }
   ],
   "source": [
    "# Boxplot of Treatment and TotalCharge\n",
    "sns.boxplot(y=\"TotalCharge\", x= \"Treatment\", data = meddf, palette = \"Paired\")\n",
    "# plt.savefig('boxplot_Treatment-TotalCharge.jpg')\n",
    "\n",
    "plt.show()"
   ]
  },
  {
   "cell_type": "code",
   "execution_count": null,
   "metadata": {},
   "outputs": [],
   "source": []
  },
  {
   "cell_type": "code",
   "execution_count": null,
   "metadata": {},
   "outputs": [],
   "source": []
  }
 ],
 "metadata": {
  "kernelspec": {
   "display_name": "Python 3",
   "language": "python",
   "name": "python3"
  },
  "language_info": {
   "codemirror_mode": {
    "name": "ipython",
    "version": 3
   },
   "file_extension": ".py",
   "mimetype": "text/x-python",
   "name": "python",
   "nbconvert_exporter": "python",
   "pygments_lexer": "ipython3",
   "version": "3.8.5"
  }
 },
 "nbformat": 4,
 "nbformat_minor": 4
}
